{
 "cells": [
  {
   "cell_type": "markdown",
   "id": "f6672e8c-dcef-4d70-9af4-542c5baf8d25",
   "metadata": {},
   "source": [
    "# Data Preprocessing"
   ]
  },
  {
   "cell_type": "markdown",
   "id": "1fe7c48e-4049-454f-8ae3-7727323f2ee2",
   "metadata": {},
   "source": [
    "In this notebook:   \n",
    "- Cleaning the csv's   \n",
    "- Merging Tables"
   ]
  },
  {
   "cell_type": "code",
   "execution_count": 1,
   "id": "51fccd3b-01f0-43b1-9684-7d0dd79ec82b",
   "metadata": {},
   "outputs": [],
   "source": [
    "import pandas as pd\n",
    "import numpy as np\n",
    "import seaborn as sns\n",
    "import matplotlib.pyplot as plt"
   ]
  },
  {
   "cell_type": "code",
   "execution_count": 3,
   "id": "c2fd2d1c-a540-418a-b5dc-88733fc8472e",
   "metadata": {},
   "outputs": [],
   "source": [
    "players_df = pd.read_csv(\"../raw_data/players_standing.csv\")"
   ]
  },
  {
   "cell_type": "code",
   "execution_count": 5,
   "id": "b2ff6e99-d699-494c-b082-e68a07074b29",
   "metadata": {},
   "outputs": [
    {
     "name": "stdout",
     "output_type": "stream",
     "text": [
      "(298266, 16)\n"
     ]
    },
    {
     "data": {
      "text/html": [
       "<div>\n",
       "<style scoped>\n",
       "    .dataframe tbody tr th:only-of-type {\n",
       "        vertical-align: middle;\n",
       "    }\n",
       "\n",
       "    .dataframe tbody tr th {\n",
       "        vertical-align: top;\n",
       "    }\n",
       "\n",
       "    .dataframe thead th {\n",
       "        text-align: right;\n",
       "    }\n",
       "</style>\n",
       "<table border=\"1\" class=\"dataframe\">\n",
       "  <thead>\n",
       "    <tr style=\"text-align: right;\">\n",
       "      <th></th>\n",
       "      <th>Players</th>\n",
       "      <th>Clubs</th>\n",
       "      <th>Position</th>\n",
       "      <th>Total</th>\n",
       "      <th>Goals</th>\n",
       "      <th>A</th>\n",
       "      <th>Start</th>\n",
       "      <th>Sub</th>\n",
       "      <th>CO</th>\n",
       "      <th>Off</th>\n",
       "      <th>Pen S</th>\n",
       "      <th>Pen SV</th>\n",
       "      <th>Pen M</th>\n",
       "      <th>Pen C</th>\n",
       "      <th>OG</th>\n",
       "      <th>League and Season</th>\n",
       "    </tr>\n",
       "  </thead>\n",
       "  <tbody>\n",
       "    <tr>\n",
       "      <th>0</th>\n",
       "      <td>Lee Bowyer</td>\n",
       "      <td>Leeds United</td>\n",
       "      <td>Midfielder</td>\n",
       "      <td>38</td>\n",
       "      <td>9</td>\n",
       "      <td>6</td>\n",
       "      <td>38</td>\n",
       "      <td>0</td>\n",
       "      <td>0</td>\n",
       "      <td>4</td>\n",
       "      <td>0</td>\n",
       "      <td>0</td>\n",
       "      <td>0</td>\n",
       "      <td>0</td>\n",
       "      <td>0</td>\n",
       "      <td>Player standing - Overall Premier League 00/01</td>\n",
       "    </tr>\n",
       "    <tr>\n",
       "      <th>1</th>\n",
       "      <td>Paul Merson</td>\n",
       "      <td>Aston Villa</td>\n",
       "      <td>Midfielder</td>\n",
       "      <td>38</td>\n",
       "      <td>6</td>\n",
       "      <td>5</td>\n",
       "      <td>38</td>\n",
       "      <td>0</td>\n",
       "      <td>0</td>\n",
       "      <td>3</td>\n",
       "      <td>0</td>\n",
       "      <td>0</td>\n",
       "      <td>0</td>\n",
       "      <td>0</td>\n",
       "      <td>0</td>\n",
       "      <td>Player standing - Overall Premier League 00/01</td>\n",
       "    </tr>\n",
       "    <tr>\n",
       "      <th>2</th>\n",
       "      <td>Markus Babbel</td>\n",
       "      <td>Liverpool</td>\n",
       "      <td>Defender</td>\n",
       "      <td>38</td>\n",
       "      <td>3</td>\n",
       "      <td>4</td>\n",
       "      <td>38</td>\n",
       "      <td>0</td>\n",
       "      <td>0</td>\n",
       "      <td>2</td>\n",
       "      <td>0</td>\n",
       "      <td>0</td>\n",
       "      <td>0</td>\n",
       "      <td>0</td>\n",
       "      <td>0</td>\n",
       "      <td>Player standing - Overall Premier League 00/01</td>\n",
       "    </tr>\n",
       "  </tbody>\n",
       "</table>\n",
       "</div>"
      ],
      "text/plain": [
       "         Players         Clubs    Position  Total  Goals  A  Start  Sub  CO  \\\n",
       "0     Lee Bowyer  Leeds United  Midfielder     38      9  6     38    0   0   \n",
       "1    Paul Merson   Aston Villa  Midfielder     38      6  5     38    0   0   \n",
       "2  Markus Babbel     Liverpool    Defender     38      3  4     38    0   0   \n",
       "\n",
       "   Off  Pen S  Pen SV  Pen M  Pen C  OG  \\\n",
       "0    4      0       0      0      0   0   \n",
       "1    3      0       0      0      0   0   \n",
       "2    2      0       0      0      0   0   \n",
       "\n",
       "                                League and Season  \n",
       "0  Player standing - Overall Premier League 00/01  \n",
       "1  Player standing - Overall Premier League 00/01  \n",
       "2  Player standing - Overall Premier League 00/01  "
      ]
     },
     "execution_count": 5,
     "metadata": {},
     "output_type": "execute_result"
    }
   ],
   "source": [
    "print(players_df.shape)\n",
    "players_df.head(3)"
   ]
  },
  {
   "cell_type": "markdown",
   "id": "d5feafd8-012c-43e6-bd51-97da6497ce8a",
   "metadata": {},
   "source": [
    "## Data Cleaning"
   ]
  },
  {
   "cell_type": "markdown",
   "id": "2f79bddc-8913-4f6e-8099-1bc2362873a2",
   "metadata": {},
   "source": [
    "<b>First, we are going to drop all players with less than 20 games, since they are not going to have chance to win or be nominated to ballon d'or</b>"
   ]
  },
  {
   "cell_type": "code",
   "execution_count": 10,
   "id": "eeb18a08-9e90-4f52-b3e2-439f7fb93140",
   "metadata": {},
   "outputs": [],
   "source": [
    "players_df = players_df[players_df.Total >= 20]"
   ]
  },
  {
   "cell_type": "code",
   "execution_count": 14,
   "id": "358c695f-eec0-41b8-b791-0711ea96d901",
   "metadata": {},
   "outputs": [
    {
     "data": {
      "text/html": [
       "<div>\n",
       "<style scoped>\n",
       "    .dataframe tbody tr th:only-of-type {\n",
       "        vertical-align: middle;\n",
       "    }\n",
       "\n",
       "    .dataframe tbody tr th {\n",
       "        vertical-align: top;\n",
       "    }\n",
       "\n",
       "    .dataframe thead th {\n",
       "        text-align: right;\n",
       "    }\n",
       "</style>\n",
       "<table border=\"1\" class=\"dataframe\">\n",
       "  <thead>\n",
       "    <tr style=\"text-align: right;\">\n",
       "      <th></th>\n",
       "      <th>Players</th>\n",
       "      <th>Clubs</th>\n",
       "      <th>Position</th>\n",
       "      <th>Total</th>\n",
       "      <th>Goals</th>\n",
       "      <th>A</th>\n",
       "      <th>Start</th>\n",
       "      <th>Sub</th>\n",
       "      <th>CO</th>\n",
       "      <th>Off</th>\n",
       "      <th>Pen S</th>\n",
       "      <th>Pen SV</th>\n",
       "      <th>Pen M</th>\n",
       "      <th>Pen C</th>\n",
       "      <th>OG</th>\n",
       "      <th>League and Season</th>\n",
       "    </tr>\n",
       "  </thead>\n",
       "  <tbody>\n",
       "    <tr>\n",
       "      <th>0</th>\n",
       "      <td>Lee Bowyer</td>\n",
       "      <td>Leeds United</td>\n",
       "      <td>Midfielder</td>\n",
       "      <td>38</td>\n",
       "      <td>9</td>\n",
       "      <td>6</td>\n",
       "      <td>38</td>\n",
       "      <td>0</td>\n",
       "      <td>0</td>\n",
       "      <td>4</td>\n",
       "      <td>0</td>\n",
       "      <td>0</td>\n",
       "      <td>0</td>\n",
       "      <td>0</td>\n",
       "      <td>0</td>\n",
       "      <td>Player standing - Overall Premier League 00/01</td>\n",
       "    </tr>\n",
       "    <tr>\n",
       "      <th>1</th>\n",
       "      <td>Paul Merson</td>\n",
       "      <td>Aston Villa</td>\n",
       "      <td>Midfielder</td>\n",
       "      <td>38</td>\n",
       "      <td>6</td>\n",
       "      <td>5</td>\n",
       "      <td>38</td>\n",
       "      <td>0</td>\n",
       "      <td>0</td>\n",
       "      <td>3</td>\n",
       "      <td>0</td>\n",
       "      <td>0</td>\n",
       "      <td>0</td>\n",
       "      <td>0</td>\n",
       "      <td>0</td>\n",
       "      <td>Player standing - Overall Premier League 00/01</td>\n",
       "    </tr>\n",
       "  </tbody>\n",
       "</table>\n",
       "</div>"
      ],
      "text/plain": [
       "       Players         Clubs    Position  Total  Goals  A  Start  Sub  CO  \\\n",
       "0   Lee Bowyer  Leeds United  Midfielder     38      9  6     38    0   0   \n",
       "1  Paul Merson   Aston Villa  Midfielder     38      6  5     38    0   0   \n",
       "\n",
       "   Off  Pen S  Pen SV  Pen M  Pen C  OG  \\\n",
       "0    4      0       0      0      0   0   \n",
       "1    3      0       0      0      0   0   \n",
       "\n",
       "                                League and Season  \n",
       "0  Player standing - Overall Premier League 00/01  \n",
       "1  Player standing - Overall Premier League 00/01  "
      ]
     },
     "execution_count": 14,
     "metadata": {},
     "output_type": "execute_result"
    }
   ],
   "source": [
    "players_df.head(2)"
   ]
  },
  {
   "cell_type": "code",
   "execution_count": null,
   "id": "708e9a08-c649-4da0-aa90-2e9d8e9480fd",
   "metadata": {},
   "outputs": [],
   "source": []
  },
  {
   "cell_type": "code",
   "execution_count": null,
   "id": "607d3ba3-e498-482e-9f76-b9fe590c1e72",
   "metadata": {},
   "outputs": [],
   "source": []
  },
  {
   "cell_type": "code",
   "execution_count": null,
   "id": "444a8fbe-350a-4d9f-8f2a-212afa24a284",
   "metadata": {},
   "outputs": [],
   "source": []
  }
 ],
 "metadata": {
  "kernelspec": {
   "display_name": "Python 3 (ipykernel)",
   "language": "python",
   "name": "python3"
  },
  "language_info": {
   "codemirror_mode": {
    "name": "ipython",
    "version": 3
   },
   "file_extension": ".py",
   "mimetype": "text/x-python",
   "name": "python",
   "nbconvert_exporter": "python",
   "pygments_lexer": "ipython3",
   "version": "3.8.12"
  }
 },
 "nbformat": 4,
 "nbformat_minor": 5
}
